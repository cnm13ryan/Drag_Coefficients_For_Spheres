{
 "cells": [
  {
   "cell_type": "markdown",
   "id": "83c778e0",
   "metadata": {},
   "source": [
    "# Experimentally Determine the Drag Coefficient for Spheres"
   ]
  },
  {
   "cell_type": "markdown",
   "id": "e692d928",
   "metadata": {},
   "source": [
    "# Experimental Results - Time measurements for spheres to settle in 100% glycerol and 75% glycerol-water "
   ]
  },
  {
   "cell_type": "code",
   "execution_count": 91,
   "id": "da610ee5",
   "metadata": {},
   "outputs": [],
   "source": [
    "def calMean(arr):\n",
    "    \"\"\"Return the mean of the values stored in the array (4.d.p)\"\"\"\n",
    "    SUM = 0; n = len(arr);\n",
    "    for i in arr:\n",
    "        SUM += i;\n",
    "    mean = SUM / n;\n",
    "    \n",
    "    return round(mean, 4);"
   ]
  },
  {
   "cell_type": "markdown",
   "id": "05d1ba63",
   "metadata": {},
   "source": [
    "## Weight measurements"
   ]
  },
  {
   "cell_type": "markdown",
   "id": "d6f438e2",
   "metadata": {},
   "source": [
    "### A = Weight of empty density bottle [g]"
   ]
  },
  {
   "cell_type": "code",
   "execution_count": 92,
   "id": "55214f25",
   "metadata": {},
   "outputs": [],
   "source": [
    "A = 40.321; # [g]"
   ]
  },
  {
   "cell_type": "markdown",
   "id": "0ca38553",
   "metadata": {},
   "source": [
    "### B = Weight of empty density bottle + 5 random sized lead-glass spheres [g]"
   ]
  },
  {
   "cell_type": "code",
   "execution_count": 93,
   "id": "ce6b6883",
   "metadata": {},
   "outputs": [],
   "source": [
    "B = 46.909; # [g]"
   ]
  },
  {
   "cell_type": "markdown",
   "id": "14f995aa",
   "metadata": {},
   "source": [
    "### C = Weight of empty density bottle + water + 5 random sized lead-glass spheres [g]"
   ]
  },
  {
   "cell_type": "code",
   "execution_count": 94,
   "id": "9335756f",
   "metadata": {},
   "outputs": [],
   "source": [
    "C = 93.513; #[g]"
   ]
  },
  {
   "cell_type": "markdown",
   "id": "e7f52711",
   "metadata": {},
   "source": [
    "### D = Weight of empty density bottle + water  [g]"
   ]
  },
  {
   "cell_type": "code",
   "execution_count": 95,
   "id": "33310af3",
   "metadata": {},
   "outputs": [],
   "source": [
    "D = 89.568; #[g]"
   ]
  },
  {
   "cell_type": "markdown",
   "id": "d37faf57",
   "metadata": {},
   "source": [
    "### Weight of spheres [g] (1)"
   ]
  },
  {
   "cell_type": "code",
   "execution_count": 107,
   "id": "3af901c7",
   "metadata": {},
   "outputs": [
    {
     "name": "stdout",
     "output_type": "stream",
     "text": [
      "Weight of the 5 random spheres are: 6.588000000000001 [g]\n"
     ]
    }
   ],
   "source": [
    "weightsSpheres = B - A\n",
    "print(f\"Weight of the 5 random spheres are: {weightsSpheres} [g]\")"
   ]
  },
  {
   "cell_type": "markdown",
   "id": "332577c4",
   "metadata": {},
   "source": [
    "### Weight of water [g] (2)"
   ]
  },
  {
   "cell_type": "code",
   "execution_count": 109,
   "id": "a7764556",
   "metadata": {},
   "outputs": [
    {
     "name": "stdout",
     "output_type": "stream",
     "text": [
      "Weight of water added is 49.247 [g]\n"
     ]
    }
   ],
   "source": [
    "weightWater = D - A\n",
    "print(f\"Weight of water added is {weightWater} [g]\")"
   ]
  },
  {
   "cell_type": "markdown",
   "id": "00887a74",
   "metadata": {},
   "source": [
    "### Weight of water + spheres [g] (3)"
   ]
  },
  {
   "cell_type": "code",
   "execution_count": 114,
   "id": "3327e8ea",
   "metadata": {},
   "outputs": [
    {
     "name": "stdout",
     "output_type": "stream",
     "text": [
      "Weight of water and 5 random spheres is 53.19200000000001 [g]\n"
     ]
    }
   ],
   "source": [
    "weightsSpheresWater = C - A\n",
    "print(f\"Weight of water and 5 random spheres is {weightsSpheresWater} [g]\")"
   ]
  },
  {
   "cell_type": "markdown",
   "id": "caf552d3",
   "metadata": {},
   "source": [
    "### Weight of water in bottle with spheres [g] (4) = (3) - (1)"
   ]
  },
  {
   "cell_type": "code",
   "execution_count": 116,
   "id": "76d745d8",
   "metadata": {},
   "outputs": [
    {
     "name": "stdout",
     "output_type": "stream",
     "text": [
      "Weight of water in bottle with 5 random spheres is 46.604000000000006 [g]\n"
     ]
    }
   ],
   "source": [
    "weightWaterinBottlewithSpheres = weightsSpheresWater - weightsSpheres\n",
    "print(f\"Weight of water in bottle with 5 random spheres is {weightWaterinBottlewithSpheres} [g]\")"
   ]
  },
  {
   "cell_type": "markdown",
   "id": "bc505a58",
   "metadata": {},
   "source": [
    "### Weight of water displaced by spheres [g] (5) = (2) - (4)"
   ]
  },
  {
   "cell_type": "code",
   "execution_count": 118,
   "id": "8a5ed3df",
   "metadata": {},
   "outputs": [
    {
     "name": "stdout",
     "output_type": "stream",
     "text": [
      "Weight of water displaced by spheres is 2.6429999999999936 [g]\n"
     ]
    }
   ],
   "source": [
    "weightWaterDisplacedbySpheres = weightWater - weightWaterinBottlewithSpheres\n",
    "print(f\"Weight of water displaced by spheres is {weightWaterDisplacedbySpheres} [g]\")"
   ]
  },
  {
   "cell_type": "markdown",
   "id": "aef0fed0",
   "metadata": {},
   "source": [
    "### Density of glass spheres $[\\dfrac{g}{cm^3}]$ (6) = (1) / (5)"
   ]
  },
  {
   "cell_type": "code",
   "execution_count": 120,
   "id": "a0dc512f",
   "metadata": {},
   "outputs": [
    {
     "name": "stdout",
     "output_type": "stream",
     "text": [
      "Density of lead-glass spheres is 2.4926220204313343 [g/(cm)^3]\n"
     ]
    }
   ],
   "source": [
    "densityOfGlassSpheres = weightsSpheres / weightWaterDisplacedbySpheres\n",
    "# print(densityOfGlassSpheres)\n",
    "\n",
    "# Density of soda-glass spheres [g / (cm)^3]\n",
    "rho_soda = 2.48; # [g/(cm)^3]\n",
    "\n",
    "# Density of lead-glass spheres [g / (cm)^3]\n",
    "rho_lead = densityOfGlassSpheres; # [g /(cm)^3]\n",
    "print(f\"Density of lead-glass spheres is {rho_lead} [g/(cm)^3]\")"
   ]
  },
  {
   "cell_type": "markdown",
   "id": "91aa0523",
   "metadata": {},
   "source": [
    "## Distance d = 1 - 0.5 = 0.5 [m]"
   ]
  },
  {
   "cell_type": "markdown",
   "id": "4c468991",
   "metadata": {},
   "source": [
    "### Why d is kept at 0.5 [m] and why do we start at 0.5 m instead of 0 [m]?"
   ]
  },
  {
   "cell_type": "code",
   "execution_count": null,
   "id": "9d91bc17",
   "metadata": {},
   "outputs": [],
   "source": []
  },
  {
   "cell_type": "markdown",
   "id": "56b152f2",
   "metadata": {},
   "source": [
    "## Time measurements for spheres to pass from 0.5 [m] to 1 [m] of the column\n"
   ]
  },
  {
   "cell_type": "markdown",
   "id": "e17b333a",
   "metadata": {},
   "source": [
    "## We allow $20\\%$ error for the range of the sphere's diameter (not including the measurement error)"
   ]
  },
  {
   "cell_type": "markdown",
   "id": "bbb0676c",
   "metadata": {},
   "source": [
    "#### Time measurements for $10.0 \\pm 2.0$ [mm] diameter soda-glass sphere (not in order)"
   ]
  },
  {
   "cell_type": "code",
   "execution_count": 71,
   "id": "bb5061fe",
   "metadata": {},
   "outputs": [],
   "source": [
    "# 100% glycerol \n",
    "d10A = [10.60, 9.70, 8.60]; # Measured diameter [mm]\n",
    "t10A = [26.38, 31.50, 37.53]; # Measured time [s]\n",
    "\n",
    "# 75% glycerol \n",
    "d10B = [10.00, 9.50, 9.62]; # Measured diameter [mm]\n",
    "t10B = [2.06, 2.00, 1.80]; # Measured time [s]\n",
    "\n"
   ]
  },
  {
   "cell_type": "markdown",
   "id": "bcd2ec48",
   "metadata": {},
   "source": [
    "#### Time measurements for $6.0 \\pm 1.2$ [mm] diameter lead-glass sphere (not in order)"
   ]
  },
  {
   "cell_type": "code",
   "execution_count": 72,
   "id": "7b5e1edd",
   "metadata": {},
   "outputs": [],
   "source": [
    "# 100% glycerol \n",
    "d6A = [5.70, 5.90, 6.30]; # Measured diameter [mm]\n",
    "t6A = [71.96, 61.51, 83.04]; # Measured time [s]\n",
    "\n",
    "# 75% glycerol \n",
    "d6B = [5.80, 6.08, 6.00]; # Measured diameter [mm]\n",
    "t6B = [2.78, 3.13, 3.36]; # Measured time [s]"
   ]
  },
  {
   "cell_type": "markdown",
   "id": "ed65e886",
   "metadata": {},
   "source": [
    "#### Time measurements for 4 [mm] diameter lead-glass sphere"
   ]
  },
  {
   "cell_type": "code",
   "execution_count": 73,
   "id": "f35f9ae1",
   "metadata": {},
   "outputs": [],
   "source": [
    "# 100% glycerol \n",
    "d4A = [3.60, 3.70, 4.00]; # Measured diameter [mm]\n",
    "t4A = [92.04, 111.21, 119.93]; # Measured time [s]\n",
    "\n",
    "# 75% glycerol \n",
    "d4B = [3.90, 3.60, 3.80]; # Measured diameter [mm]\n",
    "t4B = [4.98, 4.72, 4.91]; # Measured time [s]"
   ]
  },
  {
   "cell_type": "markdown",
   "id": "1f702e4a",
   "metadata": {},
   "source": [
    "#### Time measurements for 3 [mm] diameter lead-glass sphere"
   ]
  },
  {
   "cell_type": "code",
   "execution_count": 74,
   "id": "362cccce",
   "metadata": {},
   "outputs": [],
   "source": [
    "# 100% glycerol \n",
    "d3A = [2.40, 3.44, 2.78]; # Measured diameter [mm]\n",
    "t3A = [258.23, 243.97]; # Measured time [s] \n",
    "# 116.54 [s] is not recorded as it is not consistent\n",
    "\n",
    "# 75% glycerol \n",
    "d3B = [3.00, 3.10, 3.20]; # Measured diameter [mm]\n",
    "t3B = [6.10, 6.75, 6.70]; # Measured time [s]"
   ]
  },
  {
   "cell_type": "code",
   "execution_count": null,
   "id": "856afc08",
   "metadata": {},
   "outputs": [],
   "source": []
  },
  {
   "cell_type": "markdown",
   "id": "3b261bd2",
   "metadata": {},
   "source": [
    "# Results and Calculations"
   ]
  },
  {
   "cell_type": "markdown",
   "id": "6c520db5",
   "metadata": {},
   "source": [
    "Since from the experiment, we know that the particles are small (<= 10 [mm]) and both solutions (100% glycerol and 75% glycerol-water) are quite viscious. Then we can use Stoke's law to study the motion of soda-glass and lead-glass particles in both solutions [1]. \n",
    "\n",
    "We know that Stoke's law is: \n",
    "\n",
    "$$F_D = 6 \\pi \\eta r v$$\n",
    "\n",
    "where $F_D$ is the drag force [N], $\\eta$ is the dynamic viscosity of the fluid $[\\dfrac{Ns}{m^2}]$, $d$ is the particle diameter [m], $v$ is the particle's settling velocity $[\\dfrac{m}{s}]$.\n",
    "\n",
    "Note: Stokes' law is useful only up to a Reynolds number $Re = \\dfrac{\\rho dv_{\\infty}}{\\eta}$ of about 0.1. At Re = 1,Stokes' law predicts a force that is about 10% too low. The flow behavior for larger Reynolds numbers is discussed in Chapter 6.\n",
    "\n",
    "\n",
    "\n",
    "\n",
    "[1]: R Byron Bird, W. E. Stewart, and E. N. Lightfoot, Transport phenomena. New York: J. Wiley, 2007.p.60-61. Available from: https://www.nitsri.ac.in/Department/Chemical%20Engineering/TP2.pdf\n",
    "\n",
    "        "
   ]
  },
  {
   "cell_type": "markdown",
   "id": "7291b798",
   "metadata": {},
   "source": [
    "### The dynamic viscosity of the 100% glycerol and 75% glycerol-water"
   ]
  },
  {
   "cell_type": "markdown",
   "id": "2bb729d2",
   "metadata": {},
   "source": [
    "Check out in UCL Explore: $\\newline$\n",
    "Poling, Bruce E. et al. The Properties of Gases and Liquids. /. 5th ed. / Bruce E. Poling, John M. Prausnitz, John P. O’Connell. New York ;: McGraw-Hill, 2001. Print.\n",
    "\n",
    "Chapter 9 Viscosity\n",
    "\n"
   ]
  },
  {
   "cell_type": "code",
   "execution_count": null,
   "id": "5c2ef69d",
   "metadata": {},
   "outputs": [],
   "source": []
  },
  {
   "cell_type": "markdown",
   "id": "2ae257c6",
   "metadata": {},
   "source": [
    "### The density of the 100% glycerol and 75% glycerol-water"
   ]
  },
  {
   "cell_type": "markdown",
   "id": "4d7c17b0",
   "metadata": {},
   "source": [
    "Trivial"
   ]
  },
  {
   "cell_type": "code",
   "execution_count": null,
   "id": "d0da066f",
   "metadata": {},
   "outputs": [],
   "source": []
  },
  {
   "cell_type": "markdown",
   "id": "c72809e8",
   "metadata": {},
   "source": [
    "## (Part a) Expeirmental determined drag coefficient $C_D$\n",
    "\n",
    "$$F_D = C_D A \\dfrac{\\rho u^2}{2}$$\n",
    "\n",
    "$$F_D = 6 \\pi \\eta r v$$\n",
    "\n",
    "Rearranging and we get:\n",
    "\n",
    "$$C_D = \\dfrac{12 \\cdot \\eta}{\\rho \\cdot u \\cdot r}$$"
   ]
  },
  {
   "cell_type": "code",
   "execution_count": null,
   "id": "73e398ec",
   "metadata": {},
   "outputs": [],
   "source": []
  },
  {
   "cell_type": "code",
   "execution_count": null,
   "id": "66b2d628",
   "metadata": {},
   "outputs": [],
   "source": []
  },
  {
   "cell_type": "markdown",
   "id": "f24d762c",
   "metadata": {},
   "source": [
    "## (Part b) Experimental determined Reynolds number $Re$\n",
    "\n",
    "$$Re = \\dfrac{pdv_{\\infty}}{\\mu}$$\n",
    "\n",
    "\n",
    "where $Re$ is the Reynolds number $[n.d.]$, $\\rho$ is the fluid density $[\\dfrac{kg}{m^3}]$, $d$ is the particle diameter $[m]$, $v_{\\infty}$ is the particle's settling (terminal) velocity $[\\dfrac{m}{s}]$, $\\eta$ is the dynamic viscosity of the fluid $[\\dfrac{Ns}{m^2}]$"
   ]
  },
  {
   "cell_type": "markdown",
   "id": "ccb6b6c9",
   "metadata": {},
   "source": [
    "Yet to find published ones "
   ]
  },
  {
   "cell_type": "code",
   "execution_count": null,
   "id": "adb4f280",
   "metadata": {},
   "outputs": [],
   "source": []
  },
  {
   "cell_type": "markdown",
   "id": "9efb88b0",
   "metadata": {},
   "source": [
    "## Experimentally determined terminal velocity"
   ]
  },
  {
   "cell_type": "markdown",
   "id": "13a7605c",
   "metadata": {},
   "source": [
    "Use lab results distance / time"
   ]
  },
  {
   "cell_type": "code",
   "execution_count": null,
   "id": "30d28408",
   "metadata": {},
   "outputs": [],
   "source": []
  },
  {
   "cell_type": "markdown",
   "id": "cab6e6a9",
   "metadata": {},
   "source": [
    "## Theoretically determined terminal velocity"
   ]
  },
  {
   "cell_type": "markdown",
   "id": "566834ff",
   "metadata": {},
   "source": [
    "Use Runge Kutta 4th order"
   ]
  },
  {
   "cell_type": "code",
   "execution_count": null,
   "id": "18f6e381",
   "metadata": {},
   "outputs": [],
   "source": []
  },
  {
   "cell_type": "markdown",
   "id": "809152d1",
   "metadata": {},
   "source": [
    "## Error Analysis "
   ]
  },
  {
   "cell_type": "markdown",
   "id": "9866c5f2",
   "metadata": {},
   "source": [
    "Quantify instrumental error (Vernier calipers, Thermometer, Stopwatch, top-pan balance)\n",
    "Check this: (https://www.savemyexams.co.uk/a-level/physics/cie/22/revision-notes/1-physical-quantities--units/1-2-measurements--errors/1-2-3-measurement-techniques/)\n",
    "\n",
    "Quantify the sample error (20% error in the diameter)\n",
    "\n",
    "Combine both errors and see how it has an effect on our result\n",
    "\n",
    "Choose the time measured from experiment and put it on the theoretical graph and \n",
    "see how much more time it needs to reach 99% of the theoretical terminal velocity "
   ]
  },
  {
   "cell_type": "markdown",
   "id": "de508a24",
   "metadata": {},
   "source": [
    "## Discussion "
   ]
  },
  {
   "cell_type": "markdown",
   "id": "9bf69aff",
   "metadata": {},
   "source": [
    "Part f, g, h, i"
   ]
  },
  {
   "cell_type": "code",
   "execution_count": null,
   "id": "566931b2",
   "metadata": {},
   "outputs": [],
   "source": []
  },
  {
   "cell_type": "code",
   "execution_count": null,
   "id": "3febce21",
   "metadata": {},
   "outputs": [],
   "source": []
  },
  {
   "cell_type": "code",
   "execution_count": null,
   "id": "f6ddd632",
   "metadata": {},
   "outputs": [],
   "source": []
  },
  {
   "cell_type": "code",
   "execution_count": null,
   "id": "aba61df3",
   "metadata": {},
   "outputs": [],
   "source": []
  },
  {
   "cell_type": "code",
   "execution_count": null,
   "id": "0d9102ad",
   "metadata": {},
   "outputs": [],
   "source": []
  },
  {
   "cell_type": "code",
   "execution_count": null,
   "id": "431dc248",
   "metadata": {},
   "outputs": [],
   "source": []
  },
  {
   "cell_type": "code",
   "execution_count": null,
   "id": "497787d7",
   "metadata": {},
   "outputs": [],
   "source": []
  }
 ],
 "metadata": {
  "kernelspec": {
   "display_name": "Python 3 (ipykernel)",
   "language": "python",
   "name": "python3"
  },
  "language_info": {
   "codemirror_mode": {
    "name": "ipython",
    "version": 3
   },
   "file_extension": ".py",
   "mimetype": "text/x-python",
   "name": "python",
   "nbconvert_exporter": "python",
   "pygments_lexer": "ipython3",
   "version": "3.9.12"
  }
 },
 "nbformat": 4,
 "nbformat_minor": 5
}
