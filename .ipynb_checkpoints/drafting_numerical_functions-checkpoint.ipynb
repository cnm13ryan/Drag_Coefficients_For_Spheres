{
 "cells": [
  {
   "cell_type": "code",
   "execution_count": 47,
   "id": "0ef9e18e",
   "metadata": {},
   "outputs": [
    {
     "name": "stdout",
     "output_type": "stream",
     "text": [
      "6.416666666666668e-05\n"
     ]
    }
   ],
   "source": [
    "\n",
    "# miu = 1400 # [kg / (m * s)] represents the dynamic viscosity of the fluid\n",
    "# d = 10 * 10**(-6) # [m] represents the particle's diameter\n",
    "# v = ?  # [m / s] represents the particle's settling velocity\n",
    "# rho = 1000*10**6 # [kg / (m**3)] represents the fluid's density\n",
    "# rho_s = 2650*10**6 # [kg / (m**3)] represents the particle's density\n",
    "# g = 9.8 # [m/ s**2] represents the gravitation acceleration\n",
    "\n",
    "\n",
    "# vol = pi * (d**3) / 6 # [m**3] represents the particle's volume\n",
    "# m_s = vol * rho_s # [kg] represents the particle's mass\n",
    "# F_d = (3 * pi * miu * d * v) # which represents drag\n",
    "# F_b = vol * rho * g # represents buoyancy\n",
    "# F_g = m_s * g # represents gravity\n",
    "# Changes = increases - decreases\n",
    "# 0 = F_d + F_b - F_g\n",
    "\n",
    "# Re = rho * d * v / miu # represents Reynolds number\n",
    "# \n",
    "\n",
    "# Parameters of the model\n",
    "miu = 1400;\n",
    "d = 10 * (10**(-6));\n",
    "rho = 1000*(10**6);\n",
    "rho_s = 2650*(10**6);\n",
    "g = 9.8;\n",
    "pi = math.pi;\n",
    "\n",
    "# Derived parameters of the model\n",
    "vol = pi * (d**3) / 6 ;\n",
    "m_s = vol * rho_s;\n",
    "\n",
    "F_g = m_s * g ;\n",
    "F_b = vol * rho * g;\n",
    "F_d = -F_b + F_g;\n",
    "\n",
    "v = F_d / 3 / pi / miu / d;\n",
    "print(v)\n",
    "\n",
    "# These are the initial values of the question"
   ]
  },
  {
   "cell_type": "code",
   "execution_count": 48,
   "id": "365fcb0e",
   "metadata": {},
   "outputs": [],
   "source": [
    "def vel_update(curr_vel, step_size=2**(-18)):\n",
    "        \"\"\"Velocity update function\"\"\"\n",
    "        def slope_update(curr_vel):\n",
    "            \"\"\"Update the gradient of the slope of the approximation\"\"\"\n",
    "            slope_new = g * (1 - rho / rho_s) - 18 * miu * curr_vel / (rho_s * (d**2));\n",
    "            return slope_new;\n",
    "        def approx_update(curr_vel):\n",
    "            \"\"\"Update the current value of velocity approximation\"\"\"\n",
    "            return (curr_vel + slope_update(curr_vel)*step_size);\n",
    "        return approx_update(curr_vel);\n",
    "        "
   ]
  },
  {
   "cell_type": "code",
   "execution_count": 49,
   "id": "89622d81",
   "metadata": {},
   "outputs": [],
   "source": [
    "def vel_iter_cal(vel_arr, update_fn, size_t_arr=8):\n",
    "    \"\"\"Iteration loop to input velocity data against time\"\"\"\n",
    "    # Looping index\n",
    "    i = 1;\n",
    "    # Initial condition(s)\n",
    "    vel_arr[0] = 0;\n",
    "    \n",
    "    for i in range(size_t_arr):\n",
    "        vel_arr[i] = update_fn(vel_arr[i-1]);\n",
    "    return vel_arr;"
   ]
  },
  {
   "cell_type": "code",
   "execution_count": 50,
   "id": "cb111259",
   "metadata": {},
   "outputs": [],
   "source": [
    "def graph_plot(y_arr):\n",
    "    \"\"\"Graph plotted of one dependent variable\"\"\"\n",
    "    def h(x_arr):\n",
    "        plt.plot(x_arr, y_arr);\n",
    "        plt.title(\"Velocity of particle in a quiesdent fluid agianst time\");\n",
    "        plt.xlabel('Time[2**(-15) s]');\n",
    "        plt.ylabel('Velocity of particle settling in the fluid [m / s]');   \n",
    "    return h;"
   ]
  },
  {
   "cell_type": "code",
   "execution_count": 51,
   "id": "b6a25c35",
   "metadata": {},
   "outputs": [
    {
     "name": "stdout",
     "output_type": "stream",
     "text": [
      "CPU times: user 8.67 ms, sys: 14 µs, total: 8.68 ms\n",
      "Wall time: 7.72 ms\n"
     ]
    },
    {
     "data": {
      "image/png": "[encoded data removed]",
      "text/plain": [
       "<Figure size 432x288 with 1 Axes>"
      ]
     },
     "metadata": {
      "needs_background": "light"
     },
     "output_type": "display_data"
    }
   ],
   "source": [
    "%%time\n",
    "import numpy as np\n",
    "import matplotlib.pyplot as plt\n",
    "\n",
    "# Euler's method (modular fashion)\n",
    "\n",
    "maz_size = int((2**(-15)) // (2**(-18))); # Expected value: 8\n",
    "\n",
    "# create velocity array\n",
    "v = np.zeros(maz_size); \n",
    "\n",
    "# create time array\n",
    "t = np.arange(8); \n",
    "\n",
    "# Calculate how velocity changes over time\n",
    "v = vel_iter_cal(v, vel_update)\n",
    "\n",
    "# Plot graph of the relation between velocity of particle and time\n",
    "graph_plot(v)(t)"
   ]
  },
  {
   "cell_type": "code",
   "execution_count": 43,
   "id": "df88e082",
   "metadata": {},
   "outputs": [
    {
     "name": "stdout",
     "output_type": "stream",
     "text": [
      "6.416666666666666e-05\n"
     ]
    }
   ],
   "source": [
    "f2 = g * (1 - rho / rho_s) - 18 * miu * v / rho_s / (d**2);\n",
    "\n",
    "# At steady state, chnage is zero\n",
    "\n",
    "v1 = (d**2) * g * (rho_s - rho)/ 18 / miu\n",
    "print(v1)"
   ]
  },
  {
   "cell_type": "code",
   "execution_count": 44,
   "id": "d88f3cd8",
   "metadata": {
    "scrolled": true
   },
   "outputs": [
    {
     "name": "stdout",
     "output_type": "stream",
     "text": [
      "[0.00016626 0.00027221 0.00033973 0.00038275 0.00041017 0.00042764\n",
      " 0.00043878 0.00044587]\n"
     ]
    }
   ],
   "source": [
    "Re = rho * d * v / miu\n",
    "print(Re)"
   ]
  },
  {
   "cell_type": "code",
   "execution_count": 45,
   "id": "5e5921d7",
   "metadata": {},
   "outputs": [],
   "source": [
    "# Euler's method (top-down approach)\n",
    "\n",
    "# new value = old value + slope * step size\n",
    "# compute the velocity from t = 0 to 2**(-15)\n",
    "# with a step size of 2**(-18) \n",
    "# inital condition: v(0) = 0\n",
    "\n",
    "i = 1;\n",
    "maz_size = (2**(-15)) / (2**(-18)); # 8\n",
    "maz_size = int(maz_size);\n",
    "v = np.zeros(maz_size); # create velocity array\n",
    "v[0] = 0; # initial condition\n",
    "step_size = 2**(-18);\n",
    "t = np.arange(8);\n",
    "\n",
    "###################################################################\n",
    "# Euler's method bottom up approach\n",
    "l = 0;\n",
    "old = 0; # Initial value, boundary condition v(0) = 0\n",
    "\n",
    "# Declaring variables\n",
    "slope = 0;\n",
    "new = 0;\n",
    "Result = 0;\n",
    "v1 = np.zeros(maz_size); # create velocity array\n"
   ]
  },
  {
   "cell_type": "code",
   "execution_count": 22,
   "id": "7a7a226c",
   "metadata": {},
   "outputs": [
    {
     "name": "stdout",
     "output_type": "stream",
     "text": [
      "[2.32768509e-05 3.81098817e-05 4.75621398e-05 5.35855335e-05\n",
      " 5.74239043e-05 5.98698826e-05 6.14285673e-05 6.24218296e-05]\n"
     ]
    },
    {
     "data": {
      "text/plain": [
       "Text(0, 0.5, 'Velocity of particle settling in the fluid [m / s]')"
      ]
     },
     "execution_count": 22,
     "metadata": {},
     "output_type": "execute_result"
    },
    {
     "data": {
      "image/png": "[encoded data removed]",
      "text/plain": [
       "<Figure size 432x288 with 1 Axes>"
      ]
     },
     "metadata": {
      "needs_background": "light"
     },
     "output_type": "display_data"
    }
   ],
   "source": [
    "import numpy as np\n",
    "import matplotlib.pyplot as plt\n",
    "\n",
    "# Top down approach of euler's method\n",
    "\n",
    "i = 1; # looping index\n",
    "maz_size = int((2**(-15)) // (2**(-18))); # Expected value: 8\n",
    "v = np.zeros(maz_size); # create velocity array\n",
    "v[0] = 0; # initial condition\n",
    "step_size = 2**(-18);\n",
    "t = np.arange(8); # create time array\n",
    "    \n",
    "def slope(i):\n",
    "    slope_i = g * (1 - rho / rho_s) - 18 * miu * v[i] / (rho_s * (d**2));\n",
    "    return slope_i;\n",
    "def equation(i):\n",
    "    f1 = v[i] + slope(i)*step_size;\n",
    "    return f1;\n",
    "    \n",
    "    \n",
    "for i in range(maz_size):\n",
    "    new_v = equation(i-1);\n",
    "    v[i] = new_v;\n",
    "\n",
    "print(v);\n",
    "plt.plot(t, v)\n",
    "plt.title(\"Velocity of particle in a quiesdent fluid agianst time\")\n",
    "plt.xlabel('Time[2**(-15) s]')\n",
    "plt.ylabel('Velocity of particle settling in the fluid [m / s]')\n",
    "    "
   ]
  },
  {
   "cell_type": "code",
   "execution_count": 23,
   "id": "3a58c09d",
   "metadata": {},
   "outputs": [
    {
     "name": "stdout",
     "output_type": "stream",
     "text": [
      "[2.32768509e-05 3.81098817e-05 4.75621398e-05 5.35855335e-05\n",
      " 5.74239043e-05 5.98698826e-05 6.14285673e-05 6.24218296e-05]\n",
      "CPU times: user 5.63 ms, sys: 3.96 ms, total: 9.58 ms\n",
      "Wall time: 8.44 ms\n"
     ]
    },
    {
     "data": {
      "text/plain": [
       "Text(0, 0.5, 'Velocity of particle settling in the fluid [m / s]')"
      ]
     },
     "execution_count": 23,
     "metadata": {},
     "output_type": "execute_result"
    },
    {
     "data": {
      "image/png": "[encoded data removed]",
      "text/plain": [
       "<Figure size 432x288 with 1 Axes>"
      ]
     },
     "metadata": {
      "needs_background": "light"
     },
     "output_type": "display_data"
    }
   ],
   "source": [
    "%%time\n",
    "# Bottom up\n",
    "for l in range(maz_size):\n",
    "    slope = g * (1 - rho / rho_s) - 18 * miu * old / (rho_s * (d**2));\n",
    "    new = old + slope *step_size;\n",
    "    Result = new; v1[l] = Result;\n",
    "    old = new;\n",
    "    \n",
    "print(v1)\n",
    "plt.plot(t, v1)\n",
    "plt.title(\"Velocity of particle in a quiesdent fluid agianst time\")\n",
    "plt.xlabel('Time[2**(-15) s]')\n",
    "plt.ylabel('Velocity of particle settling in the fluid [m / s]')\n",
    "\n"
   ]
  },
  {
   "cell_type": "code",
   "execution_count": 14,
   "id": "e75faeb5",
   "metadata": {},
   "outputs": [
    {
     "name": "stdout",
     "output_type": "stream",
     "text": [
      "Enter the value of coefficient a: 3\n",
      "Enter the value of coefficient b: 5\n",
      "Enter the value of coefficient c: 7\n",
      "The value of x1 and x2 are:\n",
      "-0.833+1.28j\n"
     ]
    }
   ],
   "source": [
    "from math import sqrt\n",
    "# Algorithm for roots of a quadratic\n",
    "\n",
    "# The roots of a quadratic equation\n",
    "# a*(x**2) + b*x + c = 0\n",
    "\n",
    "# x1 = (-b + sqrt(b**2 - 4 * a * c)) / 2 / a;\n",
    "# x2 = (-b - sqrt(b**2 - 4 * a * c)) / 2 / a;\n",
    "\n",
    "\n",
    "# Step 2: Implements the quadratic formula, guarding against all eventualities\n",
    "# E.g., Avoid divison by zero, Allow complex roots\n",
    "def quadratic():\n",
    "    def only_reals(a,b,c):\n",
    "        x1 = -b + sqrt(discrimant(a,b,c)) / 2 / a;\n",
    "        x2 = -b - sqrt(discrimant(a,b,c)) / 2 / a;\n",
    "        sentence = \"The value of x1 and x2 are:\";\n",
    "        print(sentence);\n",
    "        x1 = '{0:.3g}'. format(x1); x2 = '{0:.3g}'. format(x2); \n",
    "        print(x1,x2);\n",
    "        \n",
    "    def complex_roots(a,b,c):\n",
    "        c1 = sqrt(4 * a * c - b**2) / 2 / a;\n",
    "        r1 = -b / 2 / a;\n",
    "        sentence_1 = \"The value of x1 and x2 are:\"; \n",
    "        print(sentence_1);\n",
    "        formatted = '{0:.3g}'. format(complex(r1, c1))\n",
    "        print(formatted);\n",
    "        \n",
    "    def discrimant(a,b,c):\n",
    "        result = b**2 - 4 * a * c;\n",
    "        return result;\n",
    "    \n",
    "    # Step 1: Prompts the user for the coefficients a, b, and c. \n",
    "    prompt = \"Enter the value of coefficient\";\n",
    "    a = int(input(prompt + \" a: \"))\n",
    "    b = int(input(prompt + \" b: \"))\n",
    "    c = int(input(prompt + \" c: \"))\n",
    "    \n",
    "    # Step 2: Implements the quadratic formula, guarding against all eventualities\n",
    "    # E.g., Avoid divison by zero, Allow complex roots\n",
    "    \n",
    "    if (a == 0): print(\"Error: Invalid division by zero\");\n",
    "    elif (discrimant(a,b,c) < 0): complex_roots(a,b,c);\n",
    "    else: only_reals(a,b,c);\n",
    "\n",
    "quadratic();"
   ]
  },
  {
   "cell_type": "code",
   "execution_count": 30,
   "id": "028fa4e5",
   "metadata": {},
   "outputs": [
    {
     "name": "stdout",
     "output_type": "stream",
     "text": [
      "2.0\n"
     ]
    }
   ],
   "source": [
    "jkjk = math.sqrt(4)\n",
    "print(jkjk)"
   ]
  },
  {
   "cell_type": "code",
   "execution_count": 46,
   "id": "01974141",
   "metadata": {},
   "outputs": [
    {
     "name": "stdout",
     "output_type": "stream",
     "text": [
      "[2.32768509e-05 3.81098817e-05 4.75621398e-05 5.35855335e-05\n",
      " 5.74239043e-05 5.98698826e-05 6.14285673e-05 6.24218296e-05]\n",
      "CPU times: user 5.52 ms, sys: 4.34 ms, total: 9.86 ms\n",
      "Wall time: 8.46 ms\n"
     ]
    },
    {
     "data": {
      "image/png": "[encoded data removed]",
      "text/plain": [
       "<Figure size 432x288 with 1 Axes>"
      ]
     },
     "metadata": {
      "needs_background": "light"
     },
     "output_type": "display_data"
    }
   ],
   "source": [
    "%%time\n",
    "# Bottom up\n",
    "for l in range(maz_size):\n",
    "    slope = g * (1 - rho / rho_s) - 18 * miu * old / (rho_s * (d**2));\n",
    "    new = old + slope *step_size;\n",
    "    Result = new; v1[l] = Result;\n",
    "    old = new;\n",
    "    \n",
    "print(v1)\n",
    "plt.plot(t, v1)\n",
    "plt.title(\"Velocity of particle in a quiesdent fluid agianst time\")\n",
    "plt.xlabel('Time[2**(-15) s]')\n",
    "plt.ylabel('Velocity of particle settling in the fluid [m / s]')\n",
    "\n",
    "def vel_update(curr_vel, step_size=2**(-18)):\n",
    "        \"\"\"Velocity update function\"\"\"\n",
    "        def slope_update(vel):\n",
    "            \"\"\"Update the gradient of the slope of the approximation\"\"\"\n",
    "            slope_new = g * (1 - rho / rho_s) - 18 * miu * vel / (rho_s * (d**2));\n",
    "            \n",
    "            def approx_update(vel):\n",
    "                \"\"\"Update the current value of velocity approximation\"\"\"\n",
    "                return (vel + slope_new*step_size);\n",
    "            return approx_update;\n",
    "        return slope_update;\n",
    "    \n",
    "def recursive_ver(old, max_iter, arr):\n",
    "    if max_iter <= 0:\n",
    "        return True;\n",
    "    else:\n",
    "        old = update(old);\n",
    "        arr[max_iter] = old;\n",
    "        max_iter = max_iter - 1;\n",
    "        return recursive_ver(old, maz_iter, arr)\n",
    "    \n",
    "    # how to perform a recursive function that adds elements to an array\n",
    "    \n",
    "    \n",
    "        \n",
    "    "
   ]
  },
  {
   "cell_type": "code",
   "execution_count": null,
   "id": "b6f5014e",
   "metadata": {},
   "outputs": [],
   "source": [
    "# single variable newton's method"
   ]
  },
  {
   "cell_type": "code",
   "execution_count": 1,
   "id": "3478d411",
   "metadata": {},
   "outputs": [],
   "source": [
    "class IterImproveError(Exception):\n",
    "    def __init__(self, last_guess):\n",
    "        self.last_guess = round(last_guess, 5);"
   ]
  },
  {
   "cell_type": "code",
   "execution_count": 2,
   "id": "983c9544",
   "metadata": {},
   "outputs": [],
   "source": [
    "def improve(update, done, guess=1, max_update=1000):\n",
    "    k = 0;\n",
    "    try:\n",
    "        while not done(guess) and k < max_update:\n",
    "            guess = update(guess);\n",
    "            k += 1;\n",
    "        return round(guess, 5);\n",
    "    \n",
    "    except ValueError:\n",
    "        raise IterImproveError(guess);   "
   ]
  },
  {
   "cell_type": "code",
   "execution_count": 3,
   "id": "106d92fd",
   "metadata": {},
   "outputs": [],
   "source": [
    "def find_zero(f, df, guess=1):\n",
    "    \"\"\"\n",
    "    >>> find_zero(lambda x: 2*x*x + sqrt(x),lambda x: 4*x + 1/(2*sqrt(x)))\n",
    "    -0.03021\n",
    "    \"\"\"\n",
    "    def done(x):\n",
    "        return f(x) == 0;\n",
    "    try:\n",
    "        return improve(newton_update(f, df), done, guess);\n",
    "    except IterImproveError as e:\n",
    "        return e.last_guess;"
   ]
  },
  {
   "cell_type": "code",
   "execution_count": 4,
   "id": "f9124f90",
   "metadata": {},
   "outputs": [],
   "source": [
    "def newton_update(f,df):\n",
    "    def update(x):\n",
    "        return x - f(x) / df(x);\n",
    "    return update;"
   ]
  },
  {
   "cell_type": "code",
   "execution_count": 5,
   "id": "8b0f0a98",
   "metadata": {},
   "outputs": [
    {
     "data": {
      "text/plain": [
       "-0.03021"
      ]
     },
     "execution_count": 5,
     "metadata": {},
     "output_type": "execute_result"
    }
   ],
   "source": [
    "from math import sqrt\n",
    "find_zero(lambda x: 2*x*x + sqrt(x),\n",
    "          lambda x: 4*x + 1/(2*sqrt(x)))\n",
    "# inputted the derivative for now\n"
   ]
  },
  {
   "cell_type": "code",
   "execution_count": 6,
   "id": "ada8dd42",
   "metadata": {},
   "outputs": [
    {
     "data": {
      "text/plain": [
       "TestResults(failed=0, attempted=1)"
      ]
     },
     "execution_count": 6,
     "metadata": {},
     "output_type": "execute_result"
    }
   ],
   "source": [
    "from doctest import testmod\n",
    "testmod()"
   ]
  },
  {
   "cell_type": "code",
   "execution_count": null,
   "id": "7dabeb9e",
   "metadata": {},
   "outputs": [],
   "source": [
    "# multivariable newton's method\n"
   ]
  },
  {
   "cell_type": "code",
   "execution_count": null,
   "id": "eb14bc14",
   "metadata": {},
   "outputs": [],
   "source": []
  },
  {
   "cell_type": "code",
   "execution_count": null,
   "id": "1428b14b",
   "metadata": {},
   "outputs": [],
   "source": []
  },
  {
   "cell_type": "code",
   "execution_count": null,
   "id": "71651a8d",
   "metadata": {},
   "outputs": [],
   "source": []
  },
  {
   "cell_type": "code",
   "execution_count": null,
   "id": "7518a853",
   "metadata": {},
   "outputs": [],
   "source": []
  },
  {
   "cell_type": "code",
   "execution_count": null,
   "id": "17bed321",
   "metadata": {},
   "outputs": [],
   "source": []
  },
  {
   "cell_type": "code",
   "execution_count": null,
   "id": "14964fae",
   "metadata": {},
   "outputs": [],
   "source": []
  },
  {
   "cell_type": "code",
   "execution_count": null,
   "id": "a27d8c67",
   "metadata": {},
   "outputs": [],
   "source": []
  },
  {
   "cell_type": "code",
   "execution_count": null,
   "id": "884c4d3a",
   "metadata": {},
   "outputs": [],
   "source": []
  }
 ],
 "metadata": {
  "kernelspec": {
   "display_name": "Python 3 (ipykernel)",
   "language": "python",
   "name": "python3"
  },
  "language_info": {
   "codemirror_mode": {
    "name": "ipython",
    "version": 3
   },
   "file_extension": ".py",
   "mimetype": "text/x-python",
   "name": "python",
   "nbconvert_exporter": "python",
   "pygments_lexer": "ipython3",
   "version": "3.8.10"
  }
 },
 "nbformat": 4,
 "nbformat_minor": 5
}
