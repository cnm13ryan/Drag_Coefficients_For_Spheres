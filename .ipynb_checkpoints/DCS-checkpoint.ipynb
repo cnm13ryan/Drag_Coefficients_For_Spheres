{
 "cells": [
  {
   "cell_type": "markdown",
   "id": "83c778e0",
   "metadata": {},
   "source": [
    "# Drag Coefficient for Spheres"
   ]
  },
  {
   "cell_type": "markdown",
   "id": "e692d928",
   "metadata": {},
   "source": [
    "# Experimental Results - Time measurements for spheres to settle in 100% glycerol and 75% glycerol-water "
   ]
  },
  {
   "cell_type": "markdown",
   "id": "6eeae5e3",
   "metadata": {},
   "source": [
    "<img src=\"./Images/DCS.png\" alt=\"Alternative text\" />"
   ]
  },
  {
   "cell_type": "markdown",
   "id": "05d1ba63",
   "metadata": {},
   "source": [
    "## Weight measurements"
   ]
  },
  {
   "cell_type": "markdown",
   "id": "d6f438e2",
   "metadata": {},
   "source": [
    "### A = Weight of empty density bottle [g]"
   ]
  },
  {
   "cell_type": "code",
   "execution_count": 163,
   "id": "55214f25",
   "metadata": {},
   "outputs": [],
   "source": [
    "A = 40.321; # [g]"
   ]
  },
  {
   "cell_type": "markdown",
   "id": "0ca38553",
   "metadata": {},
   "source": [
    "### B = Weight of empty density bottle + 5 random sized lead-glass spheres [g]"
   ]
  },
  {
   "cell_type": "code",
   "execution_count": 164,
   "id": "ce6b6883",
   "metadata": {},
   "outputs": [],
   "source": [
    "B = 46.909; # [g]"
   ]
  },
  {
   "cell_type": "markdown",
   "id": "14f995aa",
   "metadata": {},
   "source": [
    "### C = Weight of empty density bottle + water + 5 random sized lead-glass spheres [g]"
   ]
  },
  {
   "cell_type": "code",
   "execution_count": 165,
   "id": "9335756f",
   "metadata": {},
   "outputs": [],
   "source": [
    "C = 93.513; #[g]"
   ]
  },
  {
   "cell_type": "markdown",
   "id": "e7f52711",
   "metadata": {},
   "source": [
    "### D = Weight of empty density bottle + water  [g]"
   ]
  },
  {
   "cell_type": "code",
   "execution_count": 166,
   "id": "33310af3",
   "metadata": {},
   "outputs": [],
   "source": [
    "D = 89.568; #[g]"
   ]
  },
  {
   "cell_type": "markdown",
   "id": "d37faf57",
   "metadata": {},
   "source": [
    "### Weight of spheres [g] (1)"
   ]
  },
  {
   "cell_type": "code",
   "execution_count": 167,
   "id": "3af901c7",
   "metadata": {},
   "outputs": [
    {
     "name": "stdout",
     "output_type": "stream",
     "text": [
      "Weight of the 5 random spheres are: 6.588000000000001 [g]\n"
     ]
    }
   ],
   "source": [
    "weightsSpheres = B - A\n",
    "print(f\"Weight of the 5 random spheres are: {weightsSpheres} [g]\")"
   ]
  },
  {
   "cell_type": "markdown",
   "id": "332577c4",
   "metadata": {},
   "source": [
    "### Weight of water [g] (2)"
   ]
  },
  {
   "cell_type": "code",
   "execution_count": 168,
   "id": "a7764556",
   "metadata": {},
   "outputs": [
    {
     "name": "stdout",
     "output_type": "stream",
     "text": [
      "Weight of water added is 49.247 [g]\n"
     ]
    }
   ],
   "source": [
    "weightWater = D - A\n",
    "print(f\"Weight of water added is {weightWater} [g]\")"
   ]
  },
  {
   "cell_type": "markdown",
   "id": "00887a74",
   "metadata": {},
   "source": [
    "### Weight of water + spheres [g] (3)"
   ]
  },
  {
   "cell_type": "code",
   "execution_count": 169,
   "id": "3327e8ea",
   "metadata": {},
   "outputs": [
    {
     "name": "stdout",
     "output_type": "stream",
     "text": [
      "Weight of water and 5 random spheres is 53.19200000000001 [g]\n"
     ]
    }
   ],
   "source": [
    "weightsSpheresWater = C - A\n",
    "print(f\"Weight of water and 5 random spheres is {weightsSpheresWater} [g]\")"
   ]
  },
  {
   "cell_type": "markdown",
   "id": "caf552d3",
   "metadata": {},
   "source": [
    "### Weight of water in bottle with spheres [g] (4) = (3) - (1)"
   ]
  },
  {
   "cell_type": "code",
   "execution_count": 170,
   "id": "76d745d8",
   "metadata": {},
   "outputs": [
    {
     "name": "stdout",
     "output_type": "stream",
     "text": [
      "Weight of water in bottle with 5 random spheres is 46.604000000000006 [g]\n"
     ]
    }
   ],
   "source": [
    "weightWaterinBottlewithSpheres = weightsSpheresWater - weightsSpheres\n",
    "print(f\"Weight of water in bottle with 5 random spheres is {weightWaterinBottlewithSpheres} [g]\")"
   ]
  },
  {
   "cell_type": "markdown",
   "id": "bc505a58",
   "metadata": {},
   "source": [
    "### Weight of water displaced by spheres [g] (5) = (2) - (4)"
   ]
  },
  {
   "cell_type": "code",
   "execution_count": 171,
   "id": "8a5ed3df",
   "metadata": {},
   "outputs": [
    {
     "name": "stdout",
     "output_type": "stream",
     "text": [
      "Weight of water displaced by spheres is 2.6429999999999936 [g]\n"
     ]
    }
   ],
   "source": [
    "weightWaterDisplacedbySpheres = weightWater - weightWaterinBottlewithSpheres\n",
    "print(f\"Weight of water displaced by spheres is {weightWaterDisplacedbySpheres} [g]\")"
   ]
  },
  {
   "cell_type": "markdown",
   "id": "aef0fed0",
   "metadata": {},
   "source": [
    "### Density of glass spheres $[\\dfrac{g}{cm^3}]$ (6) = (1) / (5)"
   ]
  },
  {
   "cell_type": "code",
   "execution_count": 172,
   "id": "a0dc512f",
   "metadata": {},
   "outputs": [
    {
     "name": "stdout",
     "output_type": "stream",
     "text": [
      "Density of lead-glass spheres is 2.4926220204313343 [g/(cm)^3]\n"
     ]
    }
   ],
   "source": [
    "densityOfGlassSpheres = weightsSpheres / weightWaterDisplacedbySpheres\n",
    "# print(densityOfGlassSpheres)\n",
    "\n",
    "# Density of soda-glass spheres [g / (cm)^3]\n",
    "rho_soda = 2.48; # [g/(cm)^3]\n",
    "\n",
    "# Density of lead-glass spheres [g / (cm)^3]\n",
    "rho_lead = densityOfGlassSpheres; # [g /(cm)^3]\n",
    "print(f\"Density of lead-glass spheres is {rho_lead} [g/(cm)^3]\")"
   ]
  },
  {
   "cell_type": "markdown",
   "id": "56b152f2",
   "metadata": {},
   "source": [
    "## Time measurements for spheres to pass from 0.5 [m] to 1 [m] of the column\n"
   ]
  },
  {
   "cell_type": "markdown",
   "id": "e17b333a",
   "metadata": {},
   "source": [
    "## We allow $20\\%$ error for the range of the sphere's diameter (not including the measurement error)"
   ]
  },
  {
   "cell_type": "markdown",
   "id": "bbb0676c",
   "metadata": {},
   "source": [
    "#### Time measurements for $10.0 \\pm 2.0$ [mm] diameter soda-glass sphere (not in order)"
   ]
  },
  {
   "cell_type": "code",
   "execution_count": 173,
   "id": "bb5061fe",
   "metadata": {},
   "outputs": [],
   "source": [
    "# 100% glycerol \n",
    "d10A = [10.60, 9.70, 8.60]; # Measured diameter [mm]\n",
    "t10A = [26.38, 31.50, 37.53]; # Measured time [s]\n",
    "\n",
    "# 75% glycerol \n",
    "d10B = [10.00, 9.50, 9.62]; # Measured diameter [mm]\n",
    "t10B = [2.06, 2.00, 1.80]; # Measured time [s]\n"
   ]
  },
  {
   "cell_type": "markdown",
   "id": "bcd2ec48",
   "metadata": {},
   "source": [
    "#### Time measurements for $6.0 \\pm 1.2$ [mm] diameter lead-glass sphere (not in order)"
   ]
  },
  {
   "cell_type": "code",
   "execution_count": 174,
   "id": "7b5e1edd",
   "metadata": {},
   "outputs": [],
   "source": [
    "# 100% glycerol \n",
    "d6A = [5.70, 5.90, 6.30]; # Measured diameter [mm]\n",
    "t6A = [71.96, 61.51, 83.04]; # Measured time [s]\n",
    "\n",
    "# 75% glycerol \n",
    "d6B = [5.80, 6.08, 6.00]; # Measured diameter [mm]\n",
    "t6B = [2.78, 3.13, 3.36]; # Measured time [s]\n"
   ]
  },
  {
   "cell_type": "markdown",
   "id": "ed65e886",
   "metadata": {},
   "source": [
    "#### Time measurements for $4.0 \\pm 0.8$ [mm] diameter lead-glass sphere"
   ]
  },
  {
   "cell_type": "code",
   "execution_count": 175,
   "id": "f35f9ae1",
   "metadata": {},
   "outputs": [],
   "source": [
    "# 100% glycerol \n",
    "d4A = [3.60, 3.70, 4.00]; # Measured diameter [mm]\n",
    "t4A = [92.04, 111.21, 119.93]; # Measured time [s]\n",
    "\n",
    "# 75% glycerol \n",
    "d4B = [3.90, 3.60, 3.80]; # Measured diameter [mm]\n",
    "t4B = [4.98, 4.72, 4.91]; # Measured time [s]\n"
   ]
  },
  {
   "cell_type": "markdown",
   "id": "1f702e4a",
   "metadata": {},
   "source": [
    "#### Time measurements for $3.0\\pm 0.6$ [mm] diameter lead-glass sphere"
   ]
  },
  {
   "cell_type": "code",
   "execution_count": 176,
   "id": "362cccce",
   "metadata": {},
   "outputs": [],
   "source": [
    "# 100% glycerol \n",
    "d3A = [2.40, 3.44, 2.78]; # Measured diameter [mm]\n",
    "t3A = [258.23, 243.97]; # Measured time [s] \n",
    "# 116.54 [s] is not recorded as it is not consistent\n",
    "\n",
    "# 75% glycerol \n",
    "d3B = [3.00, 3.10, 3.20]; # Measured diameter [mm]\n",
    "t3B = [6.10, 6.75, 6.70]; # Measured time [s]\n"
   ]
  },
  {
   "cell_type": "markdown",
   "id": "3b261bd2",
   "metadata": {},
   "source": [
    "# Results and Calculations"
   ]
  },
  {
   "cell_type": "markdown",
   "id": "2477629b",
   "metadata": {},
   "source": [
    "### Recall we need to calculate the mean of our experimental results"
   ]
  },
  {
   "cell_type": "code",
   "execution_count": 177,
   "id": "3056e7e1",
   "metadata": {},
   "outputs": [],
   "source": [
    "def calMean(arr):\n",
    "    \"\"\"Return the mean of the values stored in the array (4.d.p)\"\"\"\n",
    "    SUM = 0; n = len(arr);\n",
    "    for i in arr:\n",
    "        SUM += i;\n",
    "    mean = SUM / n;\n",
    "    \n",
    "    return round(mean, 4);"
   ]
  },
  {
   "cell_type": "code",
   "execution_count": 178,
   "id": "8a01ebaa",
   "metadata": {},
   "outputs": [],
   "source": [
    "def calMeanVelocity(t,dist=0.5):\n",
    "    \"\"\"\n",
    "    calMeanVelocity(t,dist=0.5)\n",
    "    \n",
    "    t: time required for particle to travel dist=0.5[m] by default\n",
    "    dist: distance at which the particle travels\n",
    "    \n",
    "    Return the mean velocity of the particle [m/ s]\n",
    "    \"\"\"\n",
    "    return dist / t;"
   ]
  },
  {
   "cell_type": "markdown",
   "id": "f27ec4b9",
   "metadata": {},
   "source": [
    "### For 100% glycerol particle diameter\n",
    "\n",
    "$$\\text{meanD10A} = \\mathbb{E}[\\text{Diameter of 10mm soda-glass spheres}]$$\n",
    "\n",
    "$$\\text{meanD6A} = \\mathbb{E}[\\text{Diameter of 6mm lead-glass spheres}]$$\n",
    "\n",
    "$$\\text{meanD4A} = \\mathbb{E}[\\text{Diameter of 4mm lead-glass spheres}]$$\n",
    "\n",
    "$$\\text{meanD3A} = \\mathbb{E}[\\text{Diameter of 3mm lead-glass spheres}]$$"
   ]
  },
  {
   "cell_type": "code",
   "execution_count": 179,
   "id": "290f989f",
   "metadata": {},
   "outputs": [],
   "source": [
    "meanD10A = calMean(d10A)\n",
    "meanD6A = calMean(d6A)\n",
    "meanD4A = calMean(d4A)\n",
    "meanD3A = calMean(d3A)"
   ]
  },
  {
   "cell_type": "markdown",
   "id": "31eddef4",
   "metadata": {},
   "source": [
    "### For 100% glycerol time taken to travel from 0.5[m] to 1[m]\n",
    "\n",
    "$$\\text{meanT10A} = \\mathbb{E}[\\text{Time taken for 10mm soda-glass spheres}]$$\n",
    "\n",
    "$$\\text{meanT6A} = \\mathbb{E}[\\text{Time taken for 6mm lead-glass spheres}]$$\n",
    "\n",
    "$$\\text{meanT4A} = \\mathbb{E}[\\text{Time taken for 4mm lead-glass spheres}]$$\n",
    "\n",
    "$$\\text{meanT3A} = \\mathbb{E}[\\text{Time taken for 3mm lead-glass spheres}]$$"
   ]
  },
  {
   "cell_type": "code",
   "execution_count": 180,
   "id": "96a24ec8",
   "metadata": {},
   "outputs": [],
   "source": [
    "meanT10A = calMean(t10A)\n",
    "meanT6A = calMean(t6A)\n",
    "meanT4A = calMean(t4A)\n",
    "meanT3A = calMean(t3A)"
   ]
  },
  {
   "cell_type": "markdown",
   "id": "c0942aab",
   "metadata": {},
   "source": [
    "### For 100% glycerol mean velocity $[\\frac{m}{s}]$ of particle which travels a distance D = 0.5 [m]\n",
    "\n",
    "$$\\text{meanV10A} = \\frac{\\text{meanT10A}}{\\text{D}}$$\n",
    "\n",
    "$$\\text{meanV6A} = \\frac{\\text{meanT6A}}{\\text{D}}$$\n",
    "\n",
    "$$\\text{meanV4A} = \\frac{\\text{meanT4A}}{\\text{D}}$$\n",
    "\n",
    "$$\\text{meanV3A} = \\frac{\\text{meanT3A}}{\\text{D}}$$"
   ]
  },
  {
   "cell_type": "code",
   "execution_count": 181,
   "id": "fdbc915c",
   "metadata": {},
   "outputs": [],
   "source": [
    "meanV10A = calMeanVelocity(meanT10A)\n",
    "meanV6A = calMeanVelocity(meanT6A)\n",
    "meanV4A = calMeanVelocity(meanT4A)\n",
    "meanV3A = calMeanVelocity(meanT3A)"
   ]
  },
  {
   "cell_type": "markdown",
   "id": "e000cc3f",
   "metadata": {},
   "source": [
    "### For 75% glycerol-water particle diameter\n",
    "\n",
    "$$\\text{meanD10B} = \\mathbb{E}[\\text{Diameter of 10mm soda-glass spheres}]$$\n",
    "\n",
    "$$\\text{meanD6B} = \\mathbb{E}[\\text{Diameter of 6mm lead-glass spheres}]$$\n",
    "\n",
    "$$\\text{meanD4B} = \\mathbb{E}[\\text{Diameter of 4mm lead-glass spheres}]$$\n",
    "\n",
    "$$\\text{meanD3B} = \\mathbb{E}[\\text{Diameter of 3mm lead-glass spheres}]$$"
   ]
  },
  {
   "cell_type": "code",
   "execution_count": 182,
   "id": "819bd16c",
   "metadata": {},
   "outputs": [],
   "source": [
    "meanD10B = calMean(d10B)\n",
    "meanD6B = calMean(d6B)\n",
    "meanD4B = calMean(d4B)\n",
    "meanD3B = calMean(d3B)"
   ]
  },
  {
   "cell_type": "markdown",
   "id": "9cb52f1d",
   "metadata": {},
   "source": [
    "### For 75% glycerol-water time taken to travel from 0.5[m] to 1[m]\n",
    "\n",
    "$$\\text{meanT10B} = \\mathbb{E}[\\text{Time taken for 10mm soda-glass spheres}]$$\n",
    "\n",
    "$$\\text{meanT6B} = \\mathbb{E}[\\text{Time taken for 6mm lead-glass spheres}]$$\n",
    "\n",
    "$$\\text{meanT4B} = \\mathbb{E}[\\text{Time taken for 4mm lead-glass spheres}]$$\n",
    "\n",
    "$$\\text{meanT3B} = \\mathbb{E}[\\text{Time taken for 3mm lead-glass spheres}]$$\n"
   ]
  },
  {
   "cell_type": "code",
   "execution_count": 183,
   "id": "72a56de1",
   "metadata": {},
   "outputs": [],
   "source": [
    "meanT10B = calMean(t10B)\n",
    "meanT6B = calMean(t6B)\n",
    "meanT4B = calMean(t4B)\n",
    "meanT3B = calMean(t3B)"
   ]
  },
  {
   "cell_type": "markdown",
   "id": "57a1467a",
   "metadata": {},
   "source": [
    "### For 75% glycerol-water mean velocity $[\\frac{m}{s}]$of particle which travels a distance D = 0.5 [m]\n",
    "\n",
    "$$\\text{meanV10B} = \\frac{\\text{meanT10B}}{\\text{D}}$$\n",
    "\n",
    "$$\\text{meanV6B} = \\frac{\\text{meanT6B}}{\\text{D}}$$\n",
    "\n",
    "$$\\text{meanV4B} = \\frac{\\text{meanT4B}}{\\text{D}}$$\n",
    "\n",
    "$$\\text{meanV3B} = \\frac{\\text{meanT3B}}{\\text{D}}$$"
   ]
  },
  {
   "cell_type": "code",
   "execution_count": 184,
   "id": "7e37bdab",
   "metadata": {},
   "outputs": [],
   "source": [
    "meanV10B = calMeanVelocity(meanT10B)\n",
    "meanV6B = calMeanVelocity(meanT6B)\n",
    "meanV4B = calMeanVelocity(meanT4B)\n",
    "meanV3B = calMeanVelocity(meanT3B)"
   ]
  },
  {
   "cell_type": "markdown",
   "id": "a341dd50",
   "metadata": {},
   "source": [
    "## (Part a) Expeirmentally determined drag coefficient $C_D$\n",
    "Since from the experiment, we know that the particles are small (<= 10 [mm]) and both solutions (100% glycerol and 75% glycerol-water) are quite viscious. Then we can use Stoke's law to study the motion of soda-glass and lead-glass particles in both solutions [1]. \n",
    "\n",
    "We know that Stoke's law is: \n",
    "\n",
    "$$F_D = 6 \\pi \\eta r u = 3 \\pi \\eta d u$$\n",
    "\n",
    "where $F_D$ is the drag force [N], $\\eta$ is the dynamic viscosity of the fluid $[\\dfrac{N \\cdot s}{m^2}]$, $r$ is the radius of particle $[m]$, $d$ is the diameter of particle $[m]$, $u$ is the particle's settling velocity $[\\dfrac{m}{s}]$.\n",
    "\n",
    "<!--\n",
    "Note: Stokes' law is useful only up to a Reynolds number $Re = \\dfrac{\\rho dv_{\\infty}}{\\eta}$ of about 0.1. At Re = 1,Stokes' law predicts a force that is about 10% too low. The flow behavior for larger Reynolds numbers is discussed in Chapter 6.\n",
    "--> \n",
    "\n",
    "\n",
    "\n",
    "[1]: R Byron Bird, W. E. Stewart, and E. N. Lightfoot, Transport phenomena. New York: J. Wiley, 2007.p.60-61. Available from: https://www.nitsri.ac.in/Department/Chemical%20Engineering/TP2.pdf. (accessed Mar. 10, 2023). \n",
    "\n",
    "   "
   ]
  },
  {
   "cell_type": "markdown",
   "id": "ffce6082",
   "metadata": {},
   "source": [
    "### The dynamic viscosity of the 100% glycerol and 75% glycerol-water\n",
    "<!-- Check out in UCL Explore: $\\newline$\n",
    "Poling, Bruce E. et al. The Properties of Gases and Liquids. /. 5th ed. / Bruce E. Poling, John M. Prausnitz, John P. O’Connell. New York ;: McGraw-Hill, 2001. Print.\n",
    "\n",
    "Chapter 9 Viscosity \n",
    "\n",
    "“The viscosity of glycerol,” The Journal of Chemical Thermodynamics, vol. 113, pp. 162–182, Oct. 2017, doi: https://doi.org/10.1016/j.jct.2017.05.042.\n",
    "\n",
    "Glycerol; SDS No.1907/2006 [Online]; Merck Life Science UK Ltd: New Road The Old Brickyard, Gillignham, Dorset, SP8 4XT, July 29, 2021. https://www.sigmaaldrich.com/GB/pt/sds/sigma/g2025 (accessed Mar. 11. 2023)\n",
    "\n",
    "\n",
    "“Convert mPa-s to N-s/m^2 - Conversion of Measurement Units,” www.convertunits.com. https://www.convertunits.com/from/mPa-s/to/N-s/m%5E2 (accessed Mar. 11, 2023).\n",
    "-->\n",
    "\n",
    "\\begin{align}\n",
    "\\eta_{\\text{ pure glycerol}} = 2.5210 \\, [\\frac{N \\cdot s}{m^2}] \\, \\text{ at $14^\\circ C$} \\, [2] && \\\\\n",
    "\\eta_{\\text{ 75$\\%$ glycerol-water}} = 0.080918 \\, [\\frac{N \\cdot s}{m^2}] \\, \\text{ at $14^\\circ C$} \\, [2]\n",
    "\\end{align}\n",
    "\n",
    "<!-- [2]: “Calculate density and viscosity of glycerol/water mixtures,” www.met.reading.ac.uk, Apr. 04, 2018. http://www.met.reading.ac.uk/~sws04cdw/viscosity_calc.html (accessed Mar. 11, 2023). -->"
   ]
  },
  {
   "cell_type": "markdown",
   "id": "be14352c",
   "metadata": {},
   "source": [
    "### The density of the 100% glycerol and 75% glycerol-water\n",
    "<!-- Check out in UCL Explore: $\\newline$\n",
    "Poling, Bruce E. et al. The Properties of Gases and Liquids. /. 5th ed. / Bruce E. Poling, John M. Prausnitz, John P. O’Connell. New York ;: McGraw-Hill, 2001. Print.\n",
    "\n",
    "Chapter 9 Viscosity \n",
    "\n",
    "“The viscosity of glycerol,” The Journal of Chemical Thermodynamics, vol. 113, pp. 162–182, Oct. 2017, doi: https://doi.org/10.1016/j.jct.2017.05.042.\n",
    "\n",
    "Glycerol; SDS No.1907/2006 [Online]; Merck Life Science UK Ltd: New Road The Old Brickyard, Gillignham, Dorset, SP8 4XT, July 29, 2021. https://www.sigmaaldrich.com/GB/pt/sds/sigma/g2025 (accessed Mar. 11. 2023)\n",
    "\n",
    "\n",
    "“Convert mPa-s to N-s/m^2 - Conversion of Measurement Units,” www.convertunits.com. https://www.convertunits.com/from/mPa-s/to/N-s/m%5E2 (accessed Mar. 11, 2023).\n",
    "-->\n",
    "\n",
    "\\begin{align}\n",
    "\\rho_{\\text{ pure glycerol}} = 1264.4 \\, [\\frac{kg}{m^3}] \\, \\text{ at $14^\\circ C$} \\, [2] && \\\\\n",
    "\\rho_{\\text{ 75$\\%$ glycerol-water}} = 1209.2 \\, [\\frac{kg}{m^3}] \\, \\text{ at $14^\\circ C$} \\, [2]\n",
    "\\end{align}\n",
    "\n",
    "[2]: “Calculate density and viscosity of glycerol/water mixtures,” www.met.reading.ac.uk, Apr. 04, 2018. http://www.met.reading.ac.uk/~sws04cdw/viscosity_calc.html (accessed Mar. 11, 2023). "
   ]
  },
  {
   "cell_type": "code",
   "execution_count": 185,
   "id": "0b3fdcde",
   "metadata": {},
   "outputs": [],
   "source": [
    "# Dynamic viscosity of 100% glycerol and 75% glycerol-water [N s / m^2]\n",
    "eta100 = 2.5210;\n",
    "eta75 = 0.080918;\n",
    "\n",
    "# Density of 100% glycerol and 75% glycerol-water [kg/m^3]\n",
    "rho100 = 1264.4;\n",
    "rho75 = 1209.2;"
   ]
  },
  {
   "cell_type": "markdown",
   "id": "7425defb",
   "metadata": {},
   "source": [
    "Since we know that the following equations\n",
    "\n",
    "$$F_D = C_D A \\dfrac{\\rho u^2}{2}$$ where $A = \\pi r^2$\n",
    "\n",
    "$$F_D = 6 \\pi \\eta r u$$\n",
    "\n",
    "Equating them and do some rearranging and we get:\n",
    "\n",
    "$$C_D = \\dfrac{12 \\cdot \\eta}{\\rho \\cdot u \\cdot r} \\, [n.d]$$"
   ]
  },
  {
   "cell_type": "code",
   "execution_count": 186,
   "id": "2b05bcf4",
   "metadata": {},
   "outputs": [],
   "source": [
    "def calExpDragCoeff(eta, rho, u, r):\n",
    "    \"\"\"\n",
    "    calExpDragCoeff(eta, rho, u, r)\n",
    "    \n",
    "    eta: Literature value of dynamic viscosity of fluid [N s / m^2]\n",
    "    rho: Literature value of density of fluid [kg / m^3]\n",
    "    u: Experiment measured settling velocity of particle [m / s] \n",
    "    r: Experiment measured radius of particle [m]\n",
    "    \n",
    "    Returns experimentally determined drag coefficient C_d [n.d]\n",
    "    \"\"\"\n",
    "    numer = 12 * eta; \n",
    "    #print(numer)\n",
    "    denom = rho * u * r;\n",
    "    #print(denom)\n",
    "    \n",
    "    return numer / denom;\n"
   ]
  },
  {
   "cell_type": "code",
   "execution_count": 187,
   "id": "2789cc3b",
   "metadata": {},
   "outputs": [],
   "source": [
    "def printDragCoefRes(arr, percent):\n",
    "    \"\"\"\n",
    "    Print out the results of the \n",
    "    drag coefficient \n",
    "    (rounded up to 10.d.p) \n",
    "    for [soda 10mm, lead 6, 4, 3mm]\n",
    "    \"\"\"\n",
    "    \n",
    "    name = [\"soda-glass 10 mm\", \n",
    "           \"lead-glass 6 mm\",\n",
    "           \"lead-glass 4 mm\",\n",
    "           \"lead-glass 3 mm\"]\n",
    "    \n",
    "    g = percent/100; w = (100 - percent)/100;\n",
    "    n = len(arr);\n",
    "    for i in range(n):\n",
    "        print(f\"The drag coefficient C_d of {name[i]} in a mixture of {g} Glycerol and {w} water is {round(arr[i],10)}\")\n",
    "    return;\n"
   ]
  },
  {
   "cell_type": "markdown",
   "id": "93dca8fb",
   "metadata": {},
   "source": [
    "### Drag coefficient for different particles [soda 10mm, lead 6, 4, 3mm] in 100% Glycerol"
   ]
  },
  {
   "cell_type": "code",
   "execution_count": 188,
   "id": "17315f1b",
   "metadata": {},
   "outputs": [
    {
     "name": "stdout",
     "output_type": "stream",
     "text": [
      "The drag coefficient C_d of soda-glass 10 mm in a mixture of 1.0 Glycerol and 0.0 water is 315.9560651245\n",
      "The drag coefficient C_d of lead-glass 6 mm in a mixture of 1.0 Glycerol and 0.0 water is 1157.5828893701\n",
      "The drag coefficient C_d of lead-glass 4 mm in a mixture of 1.0 Glycerol and 0.0 water is 2737.1079123104\n",
      "The drag coefficient C_d of lead-glass 3 mm in a mixture of 1.0 Glycerol and 0.0 water is 8363.6400910837\n"
     ]
    }
   ],
   "source": [
    "V100 = [meanV10A,meanV6A,meanV4A,meanV3A] # mean velocity of [soda 10mm, lead 6, 4, 3mm] in 100% Glycerol\n",
    "D100 = [i / 1000 for i in [meanD10A,meanD6A,meanD4A,meanD3A]] # mean diameter of [soda 10mm, lead 6, 4, 3mm]in 100% Glycerol\n",
    "R100 = [i/2 for i in D100] # mean radius of [soda 10mm, lead 6, 4, 3mm] in 100% Glycerol\n",
    "\n",
    "n = len(R100)\n",
    "CD100 = [0,0,0,0] # Array to store drag coefficient of [soda 10mm, lead 6, 4, 3mm] in 100% Glycerol\n",
    "\n",
    "for i in range(n):\n",
    "    CD100[i] = calExpDragCoeff(eta100, rho100, V100[i], R100[i])\n",
    "\n",
    "#print(CD100) \n",
    "\n",
    "printDragCoefRes(CD100, 100)"
   ]
  },
  {
   "cell_type": "markdown",
   "id": "c1511ce6",
   "metadata": {},
   "source": [
    "### Drag coefficient for different particles [soda 10mm, lead 6, 4, 3mm] in 75% Glycerol-water"
   ]
  },
  {
   "cell_type": "code",
   "execution_count": 189,
   "id": "ff2ee312",
   "metadata": {},
   "outputs": [
    {
     "name": "stdout",
     "output_type": "stream",
     "text": [
      "The drag coefficient C_d of soda-glass 10 mm in a mixture of 0.75 Glycerol and 0.25 water is 0.6463765343\n",
      "The drag coefficient C_d of lead-glass 6 mm in a mixture of 0.75 Glycerol and 0.25 water is 1.6653305863\n",
      "The drag coefficient C_d of lead-glass 4 mm in a mixture of 0.75 Glycerol and 0.25 water is 4.1529448905\n",
      "The drag coefficient C_d of lead-glass 3 mm in a mixture of 0.75 Glycerol and 0.25 water is 6.752339555\n"
     ]
    }
   ],
   "source": [
    "V75 = [meanV10B,meanV6B,meanV4B,meanV3B] # mean velocity of [soda 10mm, lead 6, 4, 3mm] in 75% Glycerol-water\n",
    "D75 = [i / 1000 for i in [meanD10B,meanD6B,meanD4B,meanD3B]] # mean diameter of [soda 10mm, lead 6, 4, 3mm]in 75% Glycerol-water\n",
    "R75 = [i/2 for i in D75] # mean radius of [soda 10mm, lead 6, 4, 3mm] in 75% Glycerol-water\n",
    "\n",
    "#n = len(R75)\n",
    "CD75 = [0,0,0,0] # Array to store drag coefficient of [soda 10mm, lead 6, 4, 3mm] in 100% Glycerol\n",
    "\n",
    "for i in range(n):\n",
    "    CD75[i] = calExpDragCoeff(eta75, rho75, V75[i], R75[i])\n",
    "\n",
    "#print(CD75) \n",
    "printDragCoefRes(CD75, 75)"
   ]
  },
  {
   "cell_type": "markdown",
   "id": "f24d762c",
   "metadata": {},
   "source": [
    "## (Part b.1) Experimentally determined Reynolds number $Re$\n",
    "\n",
    "$$Re = \\dfrac{pdv_{\\infty}}{\\eta}$$\n",
    "\n",
    "\n",
    "where $Re$ is the Reynolds number $[n.d]$, $\\rho$ is the fluid density $[\\dfrac{kg}{m^3}]$, $d$ is the particle diameter $[m]$, $v_{\\infty}$ is the particle's settling (terminal) velocity $[\\dfrac{m}{s}]$, $\\eta$ is the dynamic viscosity of the fluid $[\\dfrac{N \\cdot s}{m^2}]$"
   ]
  },
  {
   "cell_type": "code",
   "execution_count": 190,
   "id": "fa7bb340",
   "metadata": {},
   "outputs": [],
   "source": [
    "def calExpReynoldsNum(eta, rho, u, d):\n",
    "    \"\"\"\n",
    "    calExpReynoldsNum(eta, rho, u, d)\n",
    "    \n",
    "    eta: Literature value of dynamic viscosity of fluid [N s / m^2]\n",
    "    rho: Literature value of density of fluid [kg / m^3]\n",
    "    u: Experiment measured settling velocity of particle [m / s] \n",
    "    d: Experiment measured diameter of particle [m]\n",
    "    \n",
    "    Returns experimentally determined reynolds number [n.d]\n",
    "    \"\"\"\n",
    "    numer = rho * d * u;\n",
    "    #print(numer)\n",
    "    denom = eta\n",
    "    #print(denom)\n",
    "    \n",
    "    return numer / denom;\n",
    "    "
   ]
  },
  {
   "cell_type": "code",
   "execution_count": 191,
   "id": "adb4f280",
   "metadata": {},
   "outputs": [],
   "source": [
    "def printReynoldsNumRes(arr, percent):\n",
    "    \"\"\"\n",
    "    Print out the results of the \n",
    "    reynolds number \n",
    "    (rounded up to 10.d.p) \n",
    "    for [soda 10mm, lead 6, 4, 3mm]\n",
    "    \"\"\"\n",
    "    \n",
    "    name = [\"soda-glass 10 mm\", \n",
    "           \"lead-glass 6 mm\",\n",
    "           \"lead-glass 4 mm\",\n",
    "           \"lead-glass 3 mm\"]\n",
    "    \n",
    "    g = percent/100; w = (100 - percent)/100;\n",
    "    n = len(arr);\n",
    "    for i in range(n):\n",
    "        print(f\"The reynolds number Re of {name[i]} in a mixture of {g} Glycerol and {w} water is {round(arr[i],10)}\")\n",
    "    return;\n"
   ]
  },
  {
   "cell_type": "markdown",
   "id": "3e328ebb",
   "metadata": {},
   "source": [
    "### Reynolds Number for different particles [soda 10mm, lead 6, 4, 3mm] in 100% Glycerol"
   ]
  },
  {
   "cell_type": "code",
   "execution_count": 192,
   "id": "74956327",
   "metadata": {},
   "outputs": [
    {
     "name": "stdout",
     "output_type": "stream",
     "text": [
      "The reynolds number Re of soda-glass 10 mm in a mixture of 1.0 Glycerol and 0.0 water is 0.0759599281\n",
      "The reynolds number Re of lead-glass 6 mm in a mixture of 1.0 Glycerol and 0.0 water is 0.0207328566\n",
      "The reynolds number Re of lead-glass 4 mm in a mixture of 1.0 Glycerol and 0.0 water is 0.0087683792\n",
      "The reynolds number Re of lead-glass 3 mm in a mixture of 1.0 Glycerol and 0.0 water is 0.0028695639\n"
     ]
    }
   ],
   "source": [
    "#V100 = [meanV10A,meanV6A,meanV4A,meanV3A] # mean velocity of [soda 10mm, lead 6, 4, 3mm] in 100% Glycerol\n",
    "#D100 = [meanD10A,meanD6A,meanD4A,meanD3A] # mean diameter of [soda 10mm, lead 6, 4, 3mm]in 100% Glycerol\n",
    "\n",
    "#n = len(R100)\n",
    "Re100 = [0,0,0,0] # Array to store the reynolds number of [soda 10mm, lead 6, 4, 3mm] in 100% Glycerol\n",
    "\n",
    "for i in range(n):\n",
    "    Re100[i] = calExpReynoldsNum(eta100, rho100, V100[i], D100[i])\n",
    "\n",
    "#print(Re100) \n",
    "\n",
    "printReynoldsNumRes(Re100, 100)"
   ]
  },
  {
   "cell_type": "markdown",
   "id": "04424c78",
   "metadata": {},
   "source": [
    "### Reynolds Number for different particles [soda 10mm, lead 6, 4, 3mm] in 75% Glycerol-water"
   ]
  },
  {
   "cell_type": "code",
   "execution_count": 193,
   "id": "ae099b7d",
   "metadata": {},
   "outputs": [
    {
     "name": "stdout",
     "output_type": "stream",
     "text": [
      "The reynolds number Re of soda-glass 10 mm in a mixture of 0.75 Glycerol and 0.25 water is 37.1300607716\n",
      "The reynolds number Re of lead-glass 6 mm in a mixture of 0.75 Glycerol and 0.25 water is 14.4115529957\n",
      "The reynolds number Re of lead-glass 4 mm in a mixture of 0.75 Glycerol and 0.25 water is 5.7790316589\n",
      "The reynolds number Re of lead-glass 3 mm in a mixture of 0.75 Glycerol and 0.25 water is 3.5543236243\n"
     ]
    }
   ],
   "source": [
    "# V75 = [meanV10B,meanV6B,meanV4B,meanV3B] # mean velocity of [soda 10mm, lead 6, 4, 3mm] in 75% Glycerol-water\n",
    "# D75 = [i / 1000 for i in [meanD10B,meanD6B,meanD4B,meanD3B]] # mean diameter of [soda 10mm, lead 6, 4, 3mm]in 75% Glycerol-water\n",
    "\n",
    "#n = len(D75)\n",
    "Re75 = [0,0,0,0] # Array to store the reynolds number of [soda 10mm, lead 6, 4, 3mm] in 75% Glycerol-water\n",
    "\n",
    "for i in range(n):\n",
    "    Re75[i] = calExpReynoldsNum(eta75, rho75, V75[i], D75[i])\n",
    "\n",
    "#print(Re75) \n",
    "\n",
    "printReynoldsNumRes(Re75, 75)"
   ]
  },
  {
   "cell_type": "markdown",
   "id": "191f65ef",
   "metadata": {},
   "source": [
    "###  Experiment $C_D$ versus $Re$ graph"
   ]
  },
  {
   "cell_type": "code",
   "execution_count": 194,
   "id": "6c2b7800",
   "metadata": {},
   "outputs": [],
   "source": [
    "import numpy as np\n",
    "import matplotlib.pyplot as plt\n",
    "import sklearn\n",
    "import scipy"
   ]
  },
  {
   "cell_type": "code",
   "execution_count": 202,
   "id": "4ee61278",
   "metadata": {},
   "outputs": [
    {
     "name": "stdout",
     "output_type": "stream",
     "text": [
      "[0.07595992813286488, 0.020732856558600427, 0.008768379168412666, 0.0028695639385039827]\n",
      "[315.9560651245027, 1157.5828893700752, 2737.1079123104005, 8363.640091083716]\n"
     ]
    }
   ],
   "source": [
    "print(Re100)\n",
    "print(CD100)"
   ]
  },
  {
   "cell_type": "markdown",
   "id": "92a6663c",
   "metadata": {},
   "source": [
    "### For 100% Glycerol"
   ]
  },
  {
   "cell_type": "code",
   "execution_count": 203,
   "id": "8f3130e7",
   "metadata": {},
   "outputs": [
    {
     "data": {
      "image/png": "[encoded data removed]",
      "text/plain": [
       "<Figure size 720x504 with 1 Axes>"
      ]
     },
     "metadata": {
      "needs_background": "light"
     },
     "output_type": "display_data"
    },
    {
     "name": "stdout",
     "output_type": "stream",
     "text": [
      "\n"
     ]
    }
   ],
   "source": [
    "(fig, ax1) = plt.subplots(1, figsize=(10, 7))\n",
    "\n",
    "ax1.scatter(Re100, CD100, c=\"green\", label='$100 \\%$ Glycerol')\n",
    "#ax1.scatter(Re75, CD75, c=\"blue\", label='$75 \\%$ Glycerol-water')\n",
    "            \n",
    "ax1.set_xlabel(r'Reynolds number',fontsize=16)\n",
    "ax1.set_ylabel(r'Drag Coefficient',fontsize=16)\n",
    "\n",
    "ax1.tick_params(axis='y', labelsize=14)\n",
    "ax1.tick_params(axis='x', labelsize=14)\n",
    "ax1.legend(loc='upper right',fontsize=12)\n",
    "ax1.grid(True)\n",
    "\n",
    "plt.title(r'$C_D$ versus $Re$ graph', fontsize=15)\n",
    "\n",
    "fig.tight_layout()  # otherwise the right y-label is slightly clipped\n",
    "plt.show()\n",
    "print('')"
   ]
  },
  {
   "cell_type": "markdown",
   "id": "b6f6dae7",
   "metadata": {},
   "source": [
    "### Perform regression analysis for 100% Glycerol"
   ]
  },
  {
   "cell_type": "code",
   "execution_count": 212,
   "id": "94aa88b2",
   "metadata": {},
   "outputs": [
    {
     "name": "stdout",
     "output_type": "stream",
     "text": [
      "Model 1 Equation: CD = 13508.912072677464 + exp(-170.17429245227856*Re)\n"
     ]
    }
   ],
   "source": [
    "# model 1 for 100% glycerol\n",
    "fit1 = scipy.optimize.curve_fit(lambda t, a, b: a*np.exp(-b * t), Re100, CD100)\n",
    "\n",
    "a1 = fit1[0][0]\n",
    "b1 = fit1[0][1]\n",
    "m1 = np.array([(a1 * np.exp(-b1 * i)) for i in Re100])\n",
    "\n",
    "\n",
    "#print(f\"alpha: {a1}, beta: {b1}\\n\");\n",
    "print(f\"Model 1 Equation: CD = {a1} + exp(-{b1}*Re)\")"
   ]
  },
  {
   "cell_type": "code",
   "execution_count": 213,
   "id": "7e2a8f45",
   "metadata": {},
   "outputs": [
    {
     "data": {
      "image/png": "[encoded data removed]",
      "text/plain": [
       "<Figure size 720x504 with 1 Axes>"
      ]
     },
     "metadata": {
      "needs_background": "light"
     },
     "output_type": "display_data"
    },
    {
     "name": "stdout",
     "output_type": "stream",
     "text": [
      "\n"
     ]
    }
   ],
   "source": [
    "(fig, ax1) = plt.subplots(1, figsize=(10, 7))\n",
    "\n",
    "ax1.scatter(Re100, CD100, c=\"green\", label='$100 \\%$ Glycerol')\n",
    "#ax1.scatter(Re75, CD75, c=\"blue\", label='$75 \\%$ Glycerol-water')\n",
    "            \n",
    "ax1.set_xlabel(r'Reynolds number',fontsize=16)\n",
    "ax1.set_ylabel(r'Drag Coefficient',fontsize=16)\n",
    "\n",
    "ax1.tick_params(axis='y', labelsize=14)\n",
    "ax1.tick_params(axis='x', labelsize=14)\n",
    "ax1.legend(loc='upper right',fontsize=12)\n",
    "\n",
    "plt.plot(Re100, m1, 'r')\n",
    "ax1.grid(True)\n",
    "\n",
    "plt.title(r'$C_D$ versus $Re$ graph', fontsize=15)\n",
    "\n",
    "fig.tight_layout()  # otherwise the right y-label is slightly clipped\n",
    "plt.show()\n",
    "print('')"
   ]
  },
  {
   "cell_type": "markdown",
   "id": "d3a87a12",
   "metadata": {},
   "source": [
    "### For 75% Glycerol-water"
   ]
  },
  {
   "cell_type": "code",
   "execution_count": 214,
   "id": "6641c48a",
   "metadata": {},
   "outputs": [
    {
     "data": {
      "image/png": "[encoded data removed]",
      "text/plain": [
       "<Figure size 720x504 with 1 Axes>"
      ]
     },
     "metadata": {
      "needs_background": "light"
     },
     "output_type": "display_data"
    },
    {
     "name": "stdout",
     "output_type": "stream",
     "text": [
      "\n"
     ]
    }
   ],
   "source": [
    "(fig, ax1) = plt.subplots(1, figsize=(10, 7))\n",
    "\n",
    "#ax1.scatter(Re100, CD100, c=\"green\", label='$100 \\%$ Glycerol')\n",
    "ax1.scatter(Re75, CD75, c=\"blue\", label='$75 \\%$ Glycerol-water')\n",
    "            \n",
    "ax1.set_xlabel(r'Reynolds number',fontsize=16)\n",
    "ax1.set_ylabel(r'Drag Coefficient',fontsize=16)\n",
    "\n",
    "ax1.tick_params(axis='y', labelsize=14)\n",
    "ax1.tick_params(axis='x', labelsize=14)\n",
    "ax1.legend(loc='upper right',fontsize=12)\n",
    "ax1.grid(True)\n",
    "\n",
    "plt.title(r'$C_D$ versus $Re$ graph', fontsize=15)\n",
    "\n",
    "fig.tight_layout()  # otherwise the right y-label is slightly clipped\n",
    "plt.show()\n",
    "print('')\n"
   ]
  },
  {
   "cell_type": "code",
   "execution_count": 215,
   "id": "43425a63",
   "metadata": {},
   "outputs": [
    {
     "name": "stdout",
     "output_type": "stream",
     "text": [
      "Equation for model 2 for 75 percent glycerol-water: CD = 10.6947169939706 + exp(0.14290196554256956*Re)\n"
     ]
    },
    {
     "name": "stderr",
     "output_type": "stream",
     "text": [
      "/tmp/ipykernel_6818/218388709.py:2: RuntimeWarning: overflow encountered in exp\n",
      "  fit2 = scipy.optimize.curve_fit(lambda t, a, b: a*np.exp(-b * t), Re75, CD75)\n"
     ]
    }
   ],
   "source": [
    "# model 2 for 75% glycerol-water\n",
    "fit2 = scipy.optimize.curve_fit(lambda t, a, b: a*np.exp(-b * t), Re75, CD75)\n",
    "\n",
    "a2 = fit2[0][0]\n",
    "b2 = fit2[0][1]\n",
    "m2 = np.array([(a2 * np.exp(-b2 * i)) for i in Re75])\n",
    "\n",
    "#print(f\"alpha: {a2}, beta: {b2}\\n\");\n",
    "print(f\"Equation for model 2 for 75 percent glycerol-water: CD = {a2} + exp({b2}*Re)\")\n"
   ]
  },
  {
   "cell_type": "code",
   "execution_count": 216,
   "id": "82cf8596",
   "metadata": {},
   "outputs": [
    {
     "data": {
      "image/png": "[encoded data removed]",
      "text/plain": [
       "<Figure size 720x504 with 1 Axes>"
      ]
     },
     "metadata": {
      "needs_background": "light"
     },
     "output_type": "display_data"
    },
    {
     "name": "stdout",
     "output_type": "stream",
     "text": [
      "\n"
     ]
    }
   ],
   "source": [
    "(fig, ax1) = plt.subplots(1, figsize=(10, 7))\n",
    "\n",
    "#ax1.scatter(Re100, CD100, c=\"green\", label='$100 \\%$ Glycerol')\n",
    "ax1.scatter(Re75, CD75, c=\"blue\", label='$75 \\%$ Glycerol-water')\n",
    "            \n",
    "ax1.set_xlabel(r'Reynolds number',fontsize=16)\n",
    "ax1.set_ylabel(r'Drag Coefficient',fontsize=16)\n",
    "\n",
    "ax1.tick_params(axis='y', labelsize=14)\n",
    "ax1.tick_params(axis='x', labelsize=14)\n",
    "ax1.legend(loc='upper right',fontsize=12)\n",
    "\n",
    "plt.plot(Re75, m2, 'r')\n",
    "ax1.grid(True)\n",
    "\n",
    "plt.title(r'$C_D$ versus $Re$ graph', fontsize=15)\n",
    "\n",
    "fig.tight_layout()  # otherwise the right y-label is slightly clipped\n",
    "plt.show()\n",
    "print('')\n"
   ]
  },
  {
   "cell_type": "code",
   "execution_count": null,
   "id": "f40081f7",
   "metadata": {},
   "outputs": [],
   "source": []
  },
  {
   "cell_type": "code",
   "execution_count": null,
   "id": "a5bd768b",
   "metadata": {},
   "outputs": [],
   "source": []
  },
  {
   "cell_type": "markdown",
   "id": "550f6ef0",
   "metadata": {},
   "source": [
    "## (part b.2 Literature determined reynolds number + graph of C_d and Re)"
   ]
  },
  {
   "cell_type": "code",
   "execution_count": null,
   "id": "3b913b75",
   "metadata": {},
   "outputs": [],
   "source": []
  },
  {
   "cell_type": "code",
   "execution_count": null,
   "id": "a16cb27f",
   "metadata": {},
   "outputs": [],
   "source": []
  },
  {
   "cell_type": "markdown",
   "id": "9efb88b0",
   "metadata": {},
   "source": [
    "## Experimentally determined terminal velocity"
   ]
  },
  {
   "cell_type": "markdown",
   "id": "13a7605c",
   "metadata": {},
   "source": [
    "Use lab results distance / time"
   ]
  },
  {
   "cell_type": "code",
   "execution_count": null,
   "id": "30d28408",
   "metadata": {},
   "outputs": [],
   "source": []
  },
  {
   "cell_type": "markdown",
   "id": "cab6e6a9",
   "metadata": {},
   "source": [
    "## Theoretically determined terminal velocity"
   ]
  },
  {
   "cell_type": "markdown",
   "id": "566834ff",
   "metadata": {},
   "source": [
    "Use Runge Kutta 4th order"
   ]
  },
  {
   "cell_type": "code",
   "execution_count": null,
   "id": "18f6e381",
   "metadata": {},
   "outputs": [],
   "source": []
  },
  {
   "cell_type": "markdown",
   "id": "809152d1",
   "metadata": {},
   "source": [
    "## Error Analysis "
   ]
  },
  {
   "cell_type": "markdown",
   "id": "9866c5f2",
   "metadata": {},
   "source": [
    "Quantify instrumental error (Vernier calipers, Thermometer, Stopwatch, top-pan balance)\n",
    "Check this: (https://www.savemyexams.co.uk/a-level/physics/cie/22/revision-notes/1-physical-quantities--units/1-2-measurements--errors/1-2-3-measurement-techniques/)\n",
    "\n",
    "Quantify the sample error (20% error in the diameter)\n",
    "\n",
    "Combine both errors and see how it has an effect on our result\n",
    "\n",
    "Choose the time measured from experiment and put it on the theoretical graph and \n",
    "see how much more time it needs to reach 99% of the theoretical terminal velocity "
   ]
  },
  {
   "cell_type": "markdown",
   "id": "de508a24",
   "metadata": {},
   "source": [
    "## Discussion "
   ]
  },
  {
   "cell_type": "markdown",
   "id": "9bf69aff",
   "metadata": {},
   "source": [
    "Part f, g, h, i"
   ]
  },
  {
   "cell_type": "markdown",
   "id": "81be1832",
   "metadata": {},
   "source": [
    "### Why d is kept at 0.5 [m] and why do we start at 0.5 m instead of 0 [m]?"
   ]
  },
  {
   "cell_type": "code",
   "execution_count": null,
   "id": "3febce21",
   "metadata": {},
   "outputs": [],
   "source": []
  },
  {
   "cell_type": "code",
   "execution_count": null,
   "id": "f6ddd632",
   "metadata": {},
   "outputs": [],
   "source": []
  },
  {
   "cell_type": "code",
   "execution_count": null,
   "id": "aba61df3",
   "metadata": {},
   "outputs": [],
   "source": []
  },
  {
   "cell_type": "code",
   "execution_count": null,
   "id": "0d9102ad",
   "metadata": {},
   "outputs": [],
   "source": []
  },
  {
   "cell_type": "code",
   "execution_count": null,
   "id": "431dc248",
   "metadata": {},
   "outputs": [],
   "source": []
  },
  {
   "cell_type": "code",
   "execution_count": null,
   "id": "497787d7",
   "metadata": {},
   "outputs": [],
   "source": []
  }
 ],
 "metadata": {
  "kernelspec": {
   "display_name": "Python 3 (ipykernel)",
   "language": "python",
   "name": "python3"
  },
  "language_info": {
   "codemirror_mode": {
    "name": "ipython",
    "version": 3
   },
   "file_extension": ".py",
   "mimetype": "text/x-python",
   "name": "python",
   "nbconvert_exporter": "python",
   "pygments_lexer": "ipython3",
   "version": "3.8.10"
  }
 },
 "nbformat": 4,
 "nbformat_minor": 5
}
